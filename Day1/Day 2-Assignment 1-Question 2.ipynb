{
 "cells": [
  {
   "cell_type": "code",
   "execution_count": null,
   "metadata": {},
   "outputs": [],
   "source": [
    "count=0\n",
    "while count < 3:\n",
    "    username = input('Enter username: ')\n",
    "    password = input('Enter password: ')\n",
    "    count += 1\n",
    "    if(username=='India' and password=='Ind'):\n",
    "        print(\"Access granted\")\n",
    "    else:\n",
    "        if(username!='India' and password=='Ind'):\n",
    "            print(\"Access denied. Try again. username is incorrect\")\n",
    "        elif (username=='India' and password!='Ind'):\n",
    "            print(\"Access denied. Try again. password is incorrect\")\n",
    "        else:\n",
    "            print('Access denied. Try again.')"
   ]
  },
  {
   "cell_type": "code",
   "execution_count": null,
   "metadata": {},
   "outputs": [],
   "source": []
  }
 ],
 "metadata": {
  "kernelspec": {
   "display_name": "Python 3",
   "language": "python",
   "name": "python3"
  },
  "language_info": {
   "codemirror_mode": {
    "name": "ipython",
    "version": 3
   },
   "file_extension": ".py",
   "mimetype": "text/x-python",
   "name": "python",
   "nbconvert_exporter": "python",
   "pygments_lexer": "ipython3",
   "version": "3.8.5"
  }
 },
 "nbformat": 4,
 "nbformat_minor": 4
}
